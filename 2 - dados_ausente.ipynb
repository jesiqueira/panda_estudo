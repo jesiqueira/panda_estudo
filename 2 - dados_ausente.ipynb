{
 "cells": [
  {
   "cell_type": "markdown",
   "metadata": {},
   "source": [
    "### Trabalhando com dados ausentes: [link](https://pandas.pydata.org/docs/user_guide/missing_data.html#missing-data)"
   ]
  },
  {
   "cell_type": "code",
   "execution_count": null,
   "metadata": {},
   "outputs": [],
   "source": []
  }
 ],
 "metadata": {
  "kernelspec": {
   "display_name": "Python 3.9.13 ('.venv': venv)",
   "language": "python",
   "name": "python3"
  },
  "language_info": {
   "name": "python",
   "version": "3.9.13"
  },
  "orig_nbformat": 4,
  "vscode": {
   "interpreter": {
    "hash": "308ae2918da6d82799758d1cfa7cbbbb0ab12861d6c37093d06b3cff0f30f698"
   }
  }
 },
 "nbformat": 4,
 "nbformat_minor": 2
}
